{
  "nbformat": 4,
  "nbformat_minor": 0,
  "metadata": {
    "colab": {
      "name": "run_all.ipynb",
      "provenance": [],
      "authorship_tag": "ABX9TyMVEIGHPMHwlYqEzDHr5Fby",
      "include_colab_link": true
    },
    "kernelspec": {
      "name": "python3",
      "display_name": "Python 3"
    }
  },
  "cells": [
    {
      "cell_type": "markdown",
      "metadata": {
        "id": "view-in-github",
        "colab_type": "text"
      },
      "source": [
        "<a href=\"https://colab.research.google.com/github/m-habib/Product-Search-Relevance-Kaggle-Competition/blob/mohammad/src/main.ipynb\" target=\"_parent\"><img src=\"https://colab.research.google.com/assets/colab-badge.svg\" alt=\"Open In Colab\"/></a>"
      ]
    },
    {
      "cell_type": "code",
      "metadata": {
        "id": "z03uYtuWFqoS",
        "outputId": "0bc62a84-aa4d-4587-e2c7-b8ddc95aff9b",
        "colab": {
          "base_uri": "https://localhost:8080/"
        }
      },
      "source": [
        "import pandas as pd\n",
        "\n",
        "dataset_train = pd.read_csv(r\"https://raw.githubusercontent.com/m-habib/Product-Search-Relevance-Kaggle-Competition/master/Data/train.csv\" , encoding='latin-1')\n",
        "print (dataset_train)"
      ],
      "execution_count": 17,
      "outputs": [
        {
          "output_type": "stream",
          "text": [
            "           id  product_uid  ...                              search_term relevance\n",
            "0           2       100001  ...                            angle bracket      3.00\n",
            "1           3       100001  ...                                l bracket      2.50\n",
            "2           9       100002  ...                                deck over      3.00\n",
            "3          16       100005  ...                         rain shower head      2.33\n",
            "4          17       100005  ...                       shower only faucet      2.67\n",
            "...       ...          ...  ...                                      ...       ...\n",
            "74062  221457       206638  ...                           tv riser glass      1.00\n",
            "74063  221458       206639  ...                        r20 halogen light      3.00\n",
            "74064  221463       206641  ...  schlage lock siena half dummy knob with      2.33\n",
            "74065  221471       206648  ...                        zen garden  decor      3.00\n",
            "74066  221473       206650  ...             fine sheer curtain 63 inches      2.33\n",
            "\n",
            "[74067 rows x 5 columns]\n"
          ],
          "name": "stdout"
        }
      ]
    }
  ]
}